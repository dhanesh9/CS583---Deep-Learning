{
 "cells": [
  {
   "attachments": {},
   "cell_type": "markdown",
   "metadata": {},
   "source": [
    "# HM1: Logistic Regression.\n",
    "\n",
    "### Name: Dhanesh Akolu\n"
   ]
  },
  {
   "cell_type": "markdown",
   "metadata": {},
   "source": [
    "#### For this assignment, you will build 6 models. You need to train Logistic Regression/Regularized Logistic Regression each with Batch Gradient Descent, Stochastic Gradient Descent and Mini Batch Gradient Descent. Also, you should plot their objective values versus epochs and compare their training and testing accuracy. You will need to tune the parameters a little bit to obtain reasonable results.\n",
    "\n",
    "#### You do not have to follow the following procedure. You may implement your own functions and methods, but you need to show your results and plots."
   ]
  },
  {
   "cell_type": "code",
   "execution_count": 217,
   "metadata": {},
   "outputs": [],
   "source": [
    "# Load Packages\n",
    "import numpy as np\n",
    "import pandas as pd\n",
    "import matplotlib.pyplot as plt\n",
    "from sklearn.model_selection import train_test_split"
   ]
  },
  {
   "cell_type": "markdown",
   "metadata": {},
   "source": [
    "# 1. Data processing\n",
    "\n",
    "- Download the Breast Cancer dataset from canvas or from https://archive.ics.uci.edu/ml/datasets/breast+cancer+wisconsin+(diagnostic)\n",
    "- Load the data.\n",
    "- Preprocess the data."
   ]
  },
  {
   "cell_type": "markdown",
   "metadata": {},
   "source": [
    "## 1.1. Load the data"
   ]
  },
  {
   "cell_type": "code",
   "execution_count": 218,
   "metadata": {},
   "outputs": [],
   "source": [
    "df = pd.read_csv(\"data.csv\")"
   ]
  },
  {
   "cell_type": "markdown",
   "metadata": {},
   "source": [
    "## 1.2 Examine and clean data"
   ]
  },
  {
   "cell_type": "code",
   "execution_count": 219,
   "metadata": {},
   "outputs": [
    {
     "data": {
      "text/html": [
       "<div>\n",
       "<style scoped>\n",
       "    .dataframe tbody tr th:only-of-type {\n",
       "        vertical-align: middle;\n",
       "    }\n",
       "\n",
       "    .dataframe tbody tr th {\n",
       "        vertical-align: top;\n",
       "    }\n",
       "\n",
       "    .dataframe thead th {\n",
       "        text-align: right;\n",
       "    }\n",
       "</style>\n",
       "<table border=\"1\" class=\"dataframe\">\n",
       "  <thead>\n",
       "    <tr style=\"text-align: right;\">\n",
       "      <th></th>\n",
       "      <th>diagnosis</th>\n",
       "      <th>radius_mean</th>\n",
       "      <th>texture_mean</th>\n",
       "      <th>perimeter_mean</th>\n",
       "      <th>area_mean</th>\n",
       "      <th>smoothness_mean</th>\n",
       "      <th>compactness_mean</th>\n",
       "      <th>concavity_mean</th>\n",
       "      <th>concave points_mean</th>\n",
       "      <th>symmetry_mean</th>\n",
       "      <th>...</th>\n",
       "      <th>texture_worst</th>\n",
       "      <th>perimeter_worst</th>\n",
       "      <th>area_worst</th>\n",
       "      <th>smoothness_worst</th>\n",
       "      <th>compactness_worst</th>\n",
       "      <th>concavity_worst</th>\n",
       "      <th>concave points_worst</th>\n",
       "      <th>symmetry_worst</th>\n",
       "      <th>fractal_dimension_worst</th>\n",
       "      <th>Unnamed: 32</th>\n",
       "    </tr>\n",
       "  </thead>\n",
       "  <tbody>\n",
       "    <tr>\n",
       "      <th>0</th>\n",
       "      <td>-1</td>\n",
       "      <td>17.99</td>\n",
       "      <td>10.38</td>\n",
       "      <td>122.80</td>\n",
       "      <td>1001.0</td>\n",
       "      <td>0.11840</td>\n",
       "      <td>0.27760</td>\n",
       "      <td>0.3001</td>\n",
       "      <td>0.14710</td>\n",
       "      <td>0.2419</td>\n",
       "      <td>...</td>\n",
       "      <td>17.33</td>\n",
       "      <td>184.60</td>\n",
       "      <td>2019.0</td>\n",
       "      <td>0.1622</td>\n",
       "      <td>0.6656</td>\n",
       "      <td>0.7119</td>\n",
       "      <td>0.2654</td>\n",
       "      <td>0.4601</td>\n",
       "      <td>0.11890</td>\n",
       "      <td>NaN</td>\n",
       "    </tr>\n",
       "    <tr>\n",
       "      <th>1</th>\n",
       "      <td>-1</td>\n",
       "      <td>20.57</td>\n",
       "      <td>17.77</td>\n",
       "      <td>132.90</td>\n",
       "      <td>1326.0</td>\n",
       "      <td>0.08474</td>\n",
       "      <td>0.07864</td>\n",
       "      <td>0.0869</td>\n",
       "      <td>0.07017</td>\n",
       "      <td>0.1812</td>\n",
       "      <td>...</td>\n",
       "      <td>23.41</td>\n",
       "      <td>158.80</td>\n",
       "      <td>1956.0</td>\n",
       "      <td>0.1238</td>\n",
       "      <td>0.1866</td>\n",
       "      <td>0.2416</td>\n",
       "      <td>0.1860</td>\n",
       "      <td>0.2750</td>\n",
       "      <td>0.08902</td>\n",
       "      <td>NaN</td>\n",
       "    </tr>\n",
       "    <tr>\n",
       "      <th>2</th>\n",
       "      <td>-1</td>\n",
       "      <td>19.69</td>\n",
       "      <td>21.25</td>\n",
       "      <td>130.00</td>\n",
       "      <td>1203.0</td>\n",
       "      <td>0.10960</td>\n",
       "      <td>0.15990</td>\n",
       "      <td>0.1974</td>\n",
       "      <td>0.12790</td>\n",
       "      <td>0.2069</td>\n",
       "      <td>...</td>\n",
       "      <td>25.53</td>\n",
       "      <td>152.50</td>\n",
       "      <td>1709.0</td>\n",
       "      <td>0.1444</td>\n",
       "      <td>0.4245</td>\n",
       "      <td>0.4504</td>\n",
       "      <td>0.2430</td>\n",
       "      <td>0.3613</td>\n",
       "      <td>0.08758</td>\n",
       "      <td>NaN</td>\n",
       "    </tr>\n",
       "    <tr>\n",
       "      <th>3</th>\n",
       "      <td>-1</td>\n",
       "      <td>11.42</td>\n",
       "      <td>20.38</td>\n",
       "      <td>77.58</td>\n",
       "      <td>386.1</td>\n",
       "      <td>0.14250</td>\n",
       "      <td>0.28390</td>\n",
       "      <td>0.2414</td>\n",
       "      <td>0.10520</td>\n",
       "      <td>0.2597</td>\n",
       "      <td>...</td>\n",
       "      <td>26.50</td>\n",
       "      <td>98.87</td>\n",
       "      <td>567.7</td>\n",
       "      <td>0.2098</td>\n",
       "      <td>0.8663</td>\n",
       "      <td>0.6869</td>\n",
       "      <td>0.2575</td>\n",
       "      <td>0.6638</td>\n",
       "      <td>0.17300</td>\n",
       "      <td>NaN</td>\n",
       "    </tr>\n",
       "    <tr>\n",
       "      <th>4</th>\n",
       "      <td>-1</td>\n",
       "      <td>20.29</td>\n",
       "      <td>14.34</td>\n",
       "      <td>135.10</td>\n",
       "      <td>1297.0</td>\n",
       "      <td>0.10030</td>\n",
       "      <td>0.13280</td>\n",
       "      <td>0.1980</td>\n",
       "      <td>0.10430</td>\n",
       "      <td>0.1809</td>\n",
       "      <td>...</td>\n",
       "      <td>16.67</td>\n",
       "      <td>152.20</td>\n",
       "      <td>1575.0</td>\n",
       "      <td>0.1374</td>\n",
       "      <td>0.2050</td>\n",
       "      <td>0.4000</td>\n",
       "      <td>0.1625</td>\n",
       "      <td>0.2364</td>\n",
       "      <td>0.07678</td>\n",
       "      <td>NaN</td>\n",
       "    </tr>\n",
       "  </tbody>\n",
       "</table>\n",
       "<p>5 rows × 32 columns</p>\n",
       "</div>"
      ],
      "text/plain": [
       "   diagnosis  radius_mean  texture_mean  perimeter_mean  area_mean  \\\n",
       "0         -1        17.99         10.38          122.80     1001.0   \n",
       "1         -1        20.57         17.77          132.90     1326.0   \n",
       "2         -1        19.69         21.25          130.00     1203.0   \n",
       "3         -1        11.42         20.38           77.58      386.1   \n",
       "4         -1        20.29         14.34          135.10     1297.0   \n",
       "\n",
       "   smoothness_mean  compactness_mean  concavity_mean  concave points_mean  \\\n",
       "0          0.11840           0.27760          0.3001              0.14710   \n",
       "1          0.08474           0.07864          0.0869              0.07017   \n",
       "2          0.10960           0.15990          0.1974              0.12790   \n",
       "3          0.14250           0.28390          0.2414              0.10520   \n",
       "4          0.10030           0.13280          0.1980              0.10430   \n",
       "\n",
       "   symmetry_mean  ...  texture_worst  perimeter_worst  area_worst  \\\n",
       "0         0.2419  ...          17.33           184.60      2019.0   \n",
       "1         0.1812  ...          23.41           158.80      1956.0   \n",
       "2         0.2069  ...          25.53           152.50      1709.0   \n",
       "3         0.2597  ...          26.50            98.87       567.7   \n",
       "4         0.1809  ...          16.67           152.20      1575.0   \n",
       "\n",
       "   smoothness_worst  compactness_worst  concavity_worst  concave points_worst  \\\n",
       "0            0.1622             0.6656           0.7119                0.2654   \n",
       "1            0.1238             0.1866           0.2416                0.1860   \n",
       "2            0.1444             0.4245           0.4504                0.2430   \n",
       "3            0.2098             0.8663           0.6869                0.2575   \n",
       "4            0.1374             0.2050           0.4000                0.1625   \n",
       "\n",
       "   symmetry_worst  fractal_dimension_worst  Unnamed: 32  \n",
       "0          0.4601                  0.11890          NaN  \n",
       "1          0.2750                  0.08902          NaN  \n",
       "2          0.3613                  0.08758          NaN  \n",
       "3          0.6638                  0.17300          NaN  \n",
       "4          0.2364                  0.07678          NaN  \n",
       "\n",
       "[5 rows x 32 columns]"
      ]
     },
     "execution_count": 219,
     "metadata": {},
     "output_type": "execute_result"
    }
   ],
   "source": [
    "# Some columns may not be useful for the model (For example, the first column contains ID number which may be irrelavant). \n",
    "# You need to get rid of the ID number feature.\n",
    "# Also you should transform target labels in the second column from 'B' and 'M' to 1 and -1.\n",
    "df = df.drop(['id'],axis=1)\n",
    "df['diagnosis']= df['diagnosis'].map({'M':-1,'B':1})\n",
    "df.head(5)"
   ]
  },
  {
   "cell_type": "markdown",
   "metadata": {},
   "source": [
    "## 1.3. Partition to training and testing sets"
   ]
  },
  {
   "cell_type": "code",
   "execution_count": 220,
   "metadata": {},
   "outputs": [],
   "source": [
    "X = df.drop(['diagnosis','Unnamed: 32'],axis=1)\n",
    "y = df['diagnosis']\n",
    "X.shape,y.shape\n",
    "# You can partition using 80% training data and 20% testing data. It is a commonly used ratio in machine learning.\n",
    "x_train, x_test, y_train, y_test = train_test_split( X, y, train_size=0.8, shuffle=True )\n",
    "\n"
   ]
  },
  {
   "cell_type": "code",
   "execution_count": 221,
   "metadata": {},
   "outputs": [
    {
     "name": "stdout",
     "output_type": "stream",
     "text": [
      "Shape of x_train:  (455, 31)\n",
      "Shape of x_test:  (114, 31)\n"
     ]
    }
   ],
   "source": [
    "train, d = x_train.shape\n",
    "train_one = np.ones((train, 1))\n",
    "x_train = np.concatenate((x_train, train_one), axis=1)\n",
    "\n",
    "test, d = x_test.shape\n",
    "test_one = np.ones((test, 1))\n",
    "x_test = np.concatenate((x_test, test_one), axis=1)\n",
    "\n",
    "print(\"Shape of x_train: \", x_train.shape)\n",
    "print(\"Shape of x_test: \", x_test.shape)\n"
   ]
  },
  {
   "cell_type": "markdown",
   "metadata": {},
   "source": [
    "## 1.4. Feature scaling"
   ]
  },
  {
   "cell_type": "markdown",
   "metadata": {},
   "source": [
    "Use the standardization to transform both training and test features"
   ]
  },
  {
   "cell_type": "code",
   "execution_count": 222,
   "metadata": {},
   "outputs": [
    {
     "name": "stdout",
     "output_type": "stream",
     "text": [
      "test mean = \n",
      "[ 0.07371661  0.05837218  0.07250118  0.05696173  0.00570117  0.02230675\n",
      "  0.01068036  0.08344981 -0.02181132 -0.0777096   0.08851276  0.06654856\n",
      "  0.07234044  0.05349989  0.04935682 -0.06713212 -0.1090219  -0.08537034\n",
      " -0.06589574 -0.14215149  0.07672544  0.08604267  0.08357067  0.05251641\n",
      "  0.04832341  0.02169167  0.01287541  0.04748462 -0.00756765 -0.03912715\n",
      "  0.        ]\n",
      "test std = \n",
      "[0.96698551 0.98911075 0.97740799 0.92473783 1.26004521 1.13005327\n",
      " 1.08334898 1.06834036 1.06408193 0.94492177 1.04708168 1.17708098\n",
      " 1.0390873  0.83417464 1.02506371 1.15672339 0.76433173 0.97557407\n",
      " 1.01809518 0.71426433 0.94794281 1.03009332 0.97493578 0.87666305\n",
      " 1.09268336 1.08304818 1.02046985 1.04731326 0.97978345 1.0420604\n",
      " 0.        ]\n"
     ]
    }
   ],
   "source": [
    "import numpy as np\n",
    "from sklearn.preprocessing import StandardScaler\n",
    "\n",
    "# scaler = StandardScaler()\n",
    "# x_train = scaler.fit_transform(x_train)\n",
    "# x_test = scaler.transform(x_test)\n",
    "\n",
    "# calculate mu and sig using the training set\n",
    "d = x_train.shape[1]\n",
    "mu = np.mean(x_train, axis=0).reshape(1, d)\n",
    "sig = np.std(x_train, axis=0).reshape(1, d)\n",
    "\n",
    "# transform the training features\n",
    "x_train = (x_train - mu) / (sig + 1E-6)\n",
    "\n",
    "# transform the test features\n",
    "x_test = (x_test - mu) / (sig + 1E-6)\n",
    "\n",
    "print('test mean = ')\n",
    "print(np.mean(x_test, axis=0))\n",
    "\n",
    "print('test std = ')\n",
    "print(np.std(x_test, axis=0))"
   ]
  },
  {
   "cell_type": "code",
   "execution_count": 223,
   "metadata": {},
   "outputs": [
    {
     "data": {
      "text/plain": [
       "((455, 1), numpy.ndarray)"
      ]
     },
     "execution_count": 223,
     "metadata": {},
     "output_type": "execute_result"
    }
   ],
   "source": [
    "import numpy as np\n",
    "y_train = np.array(y_train).reshape(-1, 1)\n",
    "y_train = y_train.reshape(-1, 1)\n",
    "y_train.shape,type(y_train)"
   ]
  },
  {
   "cell_type": "markdown",
   "metadata": {},
   "source": [
    "# 2.  Logistic Regression Model\n",
    "\n",
    "The objective function is $Q (w; X, y) = \\frac{1}{n} \\sum_{i=1}^n \\log \\Big( 1 + \\exp \\big( - y_i x_i^T w \\big) \\Big) + \\frac{\\lambda}{2} \\| w \\|_2^2 $.\n",
    "\n",
    "When $\\lambda = 0$, the model is a regular logistic regression and when $\\lambda > 0$, it essentially becomes a regularized logistic regression."
   ]
  },
  {
   "cell_type": "code",
   "execution_count": 257,
   "metadata": {},
   "outputs": [],
   "source": [
    "# Calculate the objective function value, or loss\n",
    "# Inputs:\n",
    "#     w: weight: d-by-1 matrix\n",
    "#     x: data: n-by-d matrix\n",
    "#     y: label: n-by-1 matrix\n",
    "#     lam: regularization parameter: scalar\n",
    "# Return:\n",
    "#     objective function value, or loss (scalar)\n",
    "def objective(w, x, y, lam):\n",
    "    n = len(y)\n",
    "    log_loss = np.sum(np.log(1 + np.exp(-y * x.dot(w))))\n",
    "    reg_term = 0.5 * lam * np.sum(w ** 2)\n",
    "    return log_loss / n + reg_term"
   ]
  },
  {
   "cell_type": "markdown",
   "metadata": {},
   "source": [
    "# 3. Numerical optimization"
   ]
  },
  {
   "cell_type": "markdown",
   "metadata": {},
   "source": [
    "## 3.1. Gradient descent\n"
   ]
  },
  {
   "cell_type": "markdown",
   "metadata": {},
   "source": [
    "The gradient at $w$ for regularized logistic regression is  $g = - \\frac{1}{n} \\sum_{i=1}^n \\frac{y_i x_i }{1 + \\exp ( y_i x_i^T w)} + \\lambda w$"
   ]
  },
  {
   "cell_type": "code",
   "execution_count": 258,
   "metadata": {},
   "outputs": [],
   "source": [
    "# Calculate the gradient\n",
    "# Inputs:\n",
    "#     w: weight: d-by-1 matrix\n",
    "#     x: data: n-by-d matrix\n",
    "#     y: label: n-by-1 matrix\n",
    "#     lam: regularization parameter: scalar\n",
    "# Return:\n",
    "#     g: gradient: d-by-1 matrix\n",
    "\n",
    "def gradient(w, x, y, lam):\n",
    "    y = y.reshape((-1, 1))  # reshape y to (n_samples, 1)\n",
    "    yxw = y * np.dot(x, w)\n",
    "    grad_loss = -y * x / (1 + np.exp(yxw))\n",
    "    grad_reg = lam * w\n",
    "    g = np.mean(grad_loss, axis=0, keepdims=True).T + grad_reg\n",
    "    return g\n",
    "\n"
   ]
  },
  {
   "cell_type": "code",
   "execution_count": 259,
   "metadata": {},
   "outputs": [],
   "source": [
    "# Gradient descent for solving logistic regression\n",
    "# You will need to do iterative processes (loops) to obtain optimal weights in this function\n",
    "\n",
    "# Inputs:\n",
    "#     x: data: n-by-d matrix\n",
    "#     y: label: n-by-1 matrix\n",
    "#     lam: scalar, the regularization parameter\n",
    "#     learning_rate: scalar\n",
    "#     w: weights: d-by-1 matrix, initialization of w\n",
    "#     max_epoch: integer, the maximal epochs\n",
    "# Return:\n",
    "#     w: weights: d-by-1 matrix, the solution\n",
    "#     objvals: a record of each epoch's objective value\n",
    "\n",
    "def gradient_descent(x, y, lam, learning_rate, w, max_epoch=100):\n",
    "    n,d = x.shape\n",
    "    objvals = np.zeros(max_epoch) \n",
    "    w = np.zeros((d,1))\n",
    "    for t in range(max_epoch):\n",
    "        objval = objective(w,x,y,lam)\n",
    "        objvals[t] = objval\n",
    "        g = gradient(w,x,y,lam)\n",
    "        w -= learning_rate * g\n",
    "    return w, objvals"
   ]
  },
  {
   "cell_type": "markdown",
   "metadata": {},
   "source": [
    "Use gradient_descent function to obtain your optimal weights and a list of objective values over each epoch."
   ]
  },
  {
   "cell_type": "code",
   "execution_count": 260,
   "metadata": {},
   "outputs": [
    {
     "data": {
      "text/plain": [
       "(array([[-0.50385746],\n",
       "        [-0.46712005],\n",
       "        [-0.49997098],\n",
       "        [-0.59608246],\n",
       "        [-0.19307379],\n",
       "        [ 0.01689815],\n",
       "        [-0.59016378],\n",
       "        [-0.70800618],\n",
       "        [-0.12762071],\n",
       "        [ 0.23612033],\n",
       "        [-0.6888763 ],\n",
       "        [-0.03918332],\n",
       "        [-0.56306489],\n",
       "        [-0.65421587],\n",
       "        [-0.16935984],\n",
       "        [ 0.41137828],\n",
       "        [ 0.14933449],\n",
       "        [ 0.05238881],\n",
       "        [ 0.05859953],\n",
       "        [ 0.35948801],\n",
       "        [-0.7492409 ],\n",
       "        [-0.73389058],\n",
       "        [-0.71101035],\n",
       "        [-0.79914934],\n",
       "        [-0.6542813 ],\n",
       "        [-0.14995207],\n",
       "        [-0.47328538],\n",
       "        [-0.68413235],\n",
       "        [-0.49730361],\n",
       "        [-0.15440935],\n",
       "        [ 0.        ]]),\n",
       " array([0.69314718, 0.24920774, 0.21386995, 0.19163592, 0.17618612,\n",
       "        0.16471798, 0.15578207, 0.14856506, 0.14257737, 0.13750535,\n",
       "        0.13313745, 0.12932496, 0.12595982, 0.1229613 , 0.12026771,\n",
       "        0.11783094, 0.11561287, 0.11358285, 0.1117159 , 0.10999142,\n",
       "        0.10839228, 0.10690407, 0.10551461, 0.10421347, 0.10299171,\n",
       "        0.1018416 , 0.10075641, 0.09973025, 0.09875796, 0.09783497,\n",
       "        0.09695726, 0.09612121, 0.09532361, 0.09456159, 0.09383257,\n",
       "        0.09313419, 0.09246436, 0.09182116, 0.09120285, 0.09060783,\n",
       "        0.09003467, 0.08948204, 0.08894871, 0.08843356, 0.08793558,\n",
       "        0.08745379, 0.08698733, 0.08653539, 0.08609719, 0.08567205,\n",
       "        0.08525931, 0.08485836, 0.08446864, 0.08408961, 0.08372078,\n",
       "        0.08336169, 0.0830119 , 0.082671  , 0.08233861, 0.08201437,\n",
       "        0.08169794, 0.081389  , 0.08108725, 0.08079239, 0.08050418,\n",
       "        0.08022234, 0.07994663, 0.07967684, 0.07941274, 0.07915412,\n",
       "        0.07890079, 0.07865257, 0.07840927, 0.07817074, 0.0779368 ,\n",
       "        0.07770731, 0.07748212, 0.0772611 , 0.0770441 , 0.07683101,\n",
       "        0.0766217 , 0.07641606, 0.07621397, 0.07601533, 0.07582004,\n",
       "        0.075628  , 0.07543912, 0.0752533 , 0.07507046, 0.07489052,\n",
       "        0.0747134 , 0.07453902, 0.0743673 , 0.07419819, 0.0740316 ,\n",
       "        0.07386748, 0.07370576, 0.07354638, 0.07338927, 0.0732344 ]))"
      ]
     },
     "execution_count": 260,
     "metadata": {},
     "output_type": "execute_result"
    }
   ],
   "source": [
    "# Train logistic regression\n",
    "# You should get the optimal weights and a list of objective values by using gradient_descent function.\n",
    "# Initialize hyperparameters\n",
    "# lam = 0\n",
    "# learning_rate = 0.5   \n",
    "# max_epoch = 100\n",
    "\n",
    "# Initialize weight vector\n",
    "# d = x_train.shape[1]\n",
    "# w = np.zeros((d, 1))\n",
    "#y_train = y_train.values\n",
    "\n",
    "# Train logistic regression using gradient descent\n",
    "w_logreg, obj_logreg = gradient_descent(x_train, y_train, 0, 0.5,1000)\n",
    "w_logreg, obj_logreg"
   ]
  },
  {
   "cell_type": "code",
   "execution_count": 228,
   "metadata": {},
   "outputs": [
    {
     "data": {
      "text/plain": [
       "(array([[-0.50385746],\n",
       "        [-0.46712005],\n",
       "        [-0.49997098],\n",
       "        [-0.59608246],\n",
       "        [-0.19307379],\n",
       "        [ 0.01689815],\n",
       "        [-0.59016378],\n",
       "        [-0.70800617],\n",
       "        [-0.12762071],\n",
       "        [ 0.23612033],\n",
       "        [-0.6888763 ],\n",
       "        [-0.03918332],\n",
       "        [-0.56306488],\n",
       "        [-0.65421587],\n",
       "        [-0.16935984],\n",
       "        [ 0.41137828],\n",
       "        [ 0.14933449],\n",
       "        [ 0.05238881],\n",
       "        [ 0.05859953],\n",
       "        [ 0.35948801],\n",
       "        [-0.7492409 ],\n",
       "        [-0.73389058],\n",
       "        [-0.71101035],\n",
       "        [-0.79914934],\n",
       "        [-0.6542813 ],\n",
       "        [-0.14995207],\n",
       "        [-0.47328538],\n",
       "        [-0.68413234],\n",
       "        [-0.49730361],\n",
       "        [-0.15440935],\n",
       "        [ 0.        ]]),\n",
       " array([0.69314718, 0.24920774, 0.21386995, 0.19163592, 0.17618612,\n",
       "        0.16471798, 0.15578207, 0.14856506, 0.14257737, 0.13750535,\n",
       "        0.13313745, 0.12932496, 0.12595982, 0.1229613 , 0.12026771,\n",
       "        0.11783094, 0.11561287, 0.11358285, 0.1117159 , 0.10999142,\n",
       "        0.10839228, 0.10690407, 0.10551461, 0.10421347, 0.10299171,\n",
       "        0.1018416 , 0.10075641, 0.09973025, 0.09875796, 0.09783497,\n",
       "        0.09695726, 0.09612121, 0.09532361, 0.09456159, 0.09383257,\n",
       "        0.09313419, 0.09246436, 0.09182116, 0.09120285, 0.09060784,\n",
       "        0.09003467, 0.08948204, 0.08894871, 0.08843356, 0.08793558,\n",
       "        0.08745379, 0.08698733, 0.08653539, 0.08609719, 0.08567205,\n",
       "        0.08525931, 0.08485836, 0.08446864, 0.08408961, 0.08372078,\n",
       "        0.08336169, 0.0830119 , 0.082671  , 0.08233861, 0.08201437,\n",
       "        0.08169794, 0.081389  , 0.08108725, 0.0807924 , 0.08050418,\n",
       "        0.08022234, 0.07994663, 0.07967684, 0.07941274, 0.07915412,\n",
       "        0.07890079, 0.07865257, 0.07840927, 0.07817074, 0.0779368 ,\n",
       "        0.07770731, 0.07748212, 0.0772611 , 0.0770441 , 0.07683101,\n",
       "        0.0766217 , 0.07641606, 0.07621397, 0.07601533, 0.07582004,\n",
       "        0.075628  , 0.07543912, 0.0752533 , 0.07507046, 0.07489052,\n",
       "        0.0747134 , 0.07453902, 0.0743673 , 0.07419819, 0.0740316 ,\n",
       "        0.07386748, 0.07370576, 0.07354638, 0.07338927, 0.0732344 ]))"
      ]
     },
     "execution_count": 228,
     "metadata": {},
     "output_type": "execute_result"
    }
   ],
   "source": [
    "# Train regularized logistic regression\n",
    "# You should get the optimal weights and a list of objective values by using gradient_descent function.\n",
    "# lam = 1E-10\n",
    "# learning_rate = 0.01\n",
    "# max_epoch = 100\n",
    "\n",
    "w_reglog, obj_reglog = gradient_descent(x_train, y_train, 1E-10, 0.5, w)\n",
    "w_reglog, obj_reglog"
   ]
  },
  {
   "cell_type": "code",
   "execution_count": 229,
   "metadata": {},
   "outputs": [
    {
     "name": "stdout",
     "output_type": "stream",
     "text": [
      "Train accuracy of logistic regression: 0.98\n"
     ]
    }
   ],
   "source": [
    "# accuracy of Train set for logistic regression\n",
    "def predict(x, w):\n",
    "    y_pred = np.dot(x, w)\n",
    "    y_pred[y_pred > 0] = 1\n",
    "    y_pred[y_pred <= 0] = -1\n",
    "    return y_pred\n",
    "# def predict1(w, x):\n",
    "#     xw = x.dot(w)\n",
    "#     f = np.where(xw > 0,1,-1)\n",
    "#     return np.array(f)\n",
    "y_train_pred = predict1(w_logreg,x_train)\n",
    "train_acc_logreg = np.mean(y_train_pred == y_train)\n",
    "print(\"Train accuracy of logistic regression: {:.2f}\".format(train_acc_logreg))\n"
   ]
  },
  {
   "cell_type": "code",
   "execution_count": 230,
   "metadata": {},
   "outputs": [
    {
     "name": "stdout",
     "output_type": "stream",
     "text": [
      "Accuracy of logistic regression on test set: 0.99\n"
     ]
    }
   ],
   "source": [
    "from sklearn.metrics import accuracy_score\n",
    "\n",
    "# Calculate accuracy of logistic regression on test set\n",
    "y_pred_test_logreg = predict1(w_logreg,x_test)\n",
    "accuracy_logreg_test = accuracy_score(y_test, y_pred_test_logreg)\n",
    "\n",
    "print(\"Accuracy of logistic regression on test set: {:.2f}\".format(accuracy_logreg_test))\n"
   ]
  },
  {
   "cell_type": "code",
   "execution_count": 231,
   "metadata": {},
   "outputs": [
    {
     "name": "stdout",
     "output_type": "stream",
     "text": [
      "Accuracy of logistic regression on training set: 0.98\n"
     ]
    }
   ],
   "source": [
    "# Predict labels for training set using logistic regression\n",
    "y_pred_train_logreg = predict1(w_logreg,x_train)\n",
    "\n",
    "# Calculate accuracy of logistic regression on training set\n",
    "accuracy_logreg_train = accuracy_score(y_train, y_pred_train_logreg)\n",
    "\n",
    "print(\"Accuracy of logistic regression on training set: {:.2f}\".format(accuracy_logreg_train))\n"
   ]
  },
  {
   "cell_type": "code",
   "execution_count": 232,
   "metadata": {},
   "outputs": [
    {
     "name": "stdout",
     "output_type": "stream",
     "text": [
      "Accuracy of regularized logistic regression on train set: 0.98\n"
     ]
    }
   ],
   "source": [
    "# Predict the labels of the train set using the trained weights\n",
    "y_pred_train_reglog = predict1(w_reglog,x_train)\n",
    "\n",
    "# Calculate the accuracy of the regularized logistic regression on the train set\n",
    "accuracy_train_reglog = accuracy_score(y_train, y_pred_train_reglog)\n",
    "\n",
    "print(\"Accuracy of regularized logistic regression on train set: {:.2f}\".format(accuracy_train_reglog))\n"
   ]
  },
  {
   "cell_type": "code",
   "execution_count": 233,
   "metadata": {},
   "outputs": [
    {
     "name": "stdout",
     "output_type": "stream",
     "text": [
      "Accuracy of regularized logistic regression on test set: 0.99\n"
     ]
    }
   ],
   "source": [
    "# Predict using regularized logistic regression\n",
    "y_pred_test_reglog = predict1(w_reglog,x_test)\n",
    "\n",
    "# Calculate accuracy of regularized logistic regression on test set\n",
    "accuracy_reglog_test = accuracy_score(y_test, y_pred_test_reglog)\n",
    "\n",
    "print(\"Accuracy of regularized logistic regression on test set: {:.2f}\".format(accuracy_reglog_test))\n"
   ]
  },
  {
   "cell_type": "code",
   "execution_count": 234,
   "metadata": {},
   "outputs": [],
   "source": [
    "# def predict(w, x):\n",
    "#     #xw = (np.dot(x,w))\n",
    "#     #f = [1 if i >0 else -1 for i in xw]\n",
    "#     xw = x.dot(w)\n",
    "#     f = np.where(xw > 0,1,-1)\n",
    "#     return np.array(f)"
   ]
  },
  {
   "cell_type": "markdown",
   "metadata": {},
   "source": [
    "## 3.2. Stochastic gradient descent (SGD)\n",
    "\n",
    "Define new objective function $Q_i (w) = \\log \\Big( 1 + \\exp \\big( - y_i x_i^T w \\big) \\Big) + \\frac{\\lambda}{2} \\| w \\|_2^2 $. \n",
    "\n",
    "The stochastic gradient at $w$ is $g_i = \\frac{\\partial Q_i }{ \\partial w} = -\\frac{y_i x_i }{1 + \\exp ( y_i x_i^T w)} + \\lambda w$.\n",
    "\n",
    "You may need to implement a new function to calculate the new objective function and gradients."
   ]
  },
  {
   "cell_type": "code",
   "execution_count": 235,
   "metadata": {},
   "outputs": [],
   "source": [
    "# Calculate the objective Q_i and the gradient of Q_i\n",
    "# Inputs:\n",
    "#     w: weights: d-by-1 matrix\n",
    "#     xi: data: 1-by-d matrix\n",
    "#     yi: label: scalar\n",
    "#     lam: scalar, the regularization parameter\n",
    "# Return:\n",
    "#     obj: scalar, the objective Q_i\n",
    "#     g: d-by-1 matrix, gradient of Q_i\n",
    "\n",
    "def stochastic_objective_gradient(w, xi, yi, lam):\n",
    "    m = np.multiply(yi,xi)\n",
    "    d = np.dot(m, w)\n",
    "    expo = np.exp(d)\n",
    "    sum = np.sum(np.square(w))\n",
    "    loss = np.log(1 + np.exp(-d)) + (lam/2) * sum\n",
    "    gradient = -m / (1 + expo) + (lam * w).reshape(xi.shape[0])\n",
    "    return loss, gradient\n"
   ]
  },
  {
   "cell_type": "markdown",
   "metadata": {},
   "source": [
    "Hints:\n",
    "1. In every epoch, randomly permute the $n$ samples.\n",
    "2. Each epoch has $n$ iterations. In every iteration, use 1 sample, and compute the gradient and objective using the ``stochastic_objective_gradient`` function. In the next iteration, use the next sample, and so on."
   ]
  },
  {
   "cell_type": "code",
   "execution_count": 236,
   "metadata": {},
   "outputs": [],
   "source": [
    "# SGD for solving logistic regression\n",
    "# You will need to do iterative process (loops) to obtain optimal weights in this function\n",
    "\n",
    "# Inputs:\n",
    "#     x: data: n-by-d matrix\n",
    "#     y: label: n-by-1 matrix\n",
    "#     lam: scalar, the regularization parameter\n",
    "#     learning_rate: scalar\n",
    "#     w: weights: d-by-1 matrix, initialization of w\n",
    "#     max_epoch: integer, the maximal epochs\n",
    "# Return:\n",
    "#     \n",
    "#     w: weights: d-by-1 matrix, the solution\n",
    "#     objvals: a record of each epoch's objective value\n",
    "#     Record one objective value per epoch (not per iteration)\n",
    "\n",
    "\n",
    "\n",
    "def sgd(x, y, lam, learning_rate, max_epoch):\n",
    "    n, d = x.shape\n",
    "    objvals = np.zeros(max_epoch)\n",
    "    w = np.zeros((d, 1))\n",
    "    for t in range(max_epoch):\n",
    "        RandomIndices = np.random.permutation(n)\n",
    "        x_rand = x[RandomIndices, :]\n",
    "        y_rand = y[RandomIndices, :]\n",
    "        objval = 0\n",
    "        for xi, yi in zip(x_rand, y_rand):\n",
    "            obj, g = stochastic_objective_gradient(w, xi, float(yi), lam)\n",
    "            objval += obj\n",
    "            w -= learning_rate * g.reshape((d, 1))\n",
    "        objval /= n\n",
    "        objvals[t] = objval\n",
    "    return w, objvals\n",
    "\n",
    "\n",
    "\n"
   ]
  },
  {
   "cell_type": "markdown",
   "metadata": {},
   "source": [
    "Use sgd function to obtain your optimal weights and a list of objective values over each epoch."
   ]
  },
  {
   "cell_type": "code",
   "execution_count": 237,
   "metadata": {},
   "outputs": [
    {
     "data": {
      "text/plain": [
       "(array([[-0.17359188],\n",
       "        [-0.53071396],\n",
       "        [-0.19545065],\n",
       "        [-0.55293453],\n",
       "        [-0.16246704],\n",
       "        [ 0.8686617 ],\n",
       "        [-1.29500437],\n",
       "        [-1.41258274],\n",
       "        [ 0.11940482],\n",
       "        [ 0.07997328],\n",
       "        [-1.60364905],\n",
       "        [ 0.25926691],\n",
       "        [-1.09144484],\n",
       "        [-1.47140169],\n",
       "        [-0.4032172 ],\n",
       "        [ 1.40743098],\n",
       "        [ 0.08356714],\n",
       "        [-0.23945736],\n",
       "        [ 0.41272855],\n",
       "        [ 0.68621275],\n",
       "        [-1.13639198],\n",
       "        [-1.41290661],\n",
       "        [-1.02527577],\n",
       "        [-1.40898485],\n",
       "        [-0.79131537],\n",
       "        [ 0.29319432],\n",
       "        [-0.88215594],\n",
       "        [-1.43459133],\n",
       "        [-0.97388795],\n",
       "        [-0.60702403],\n",
       "        [ 0.        ]]),\n",
       " array([0.23408323, 0.12882286, 0.10840381, 0.09814171, 0.09177596,\n",
       "        0.08719871, 0.08372487, 0.08104043, 0.078733  , 0.0768011 ,\n",
       "        0.07512988, 0.07376295, 0.07245644, 0.07137668, 0.07033458,\n",
       "        0.06941655, 0.0685763 , 0.06779863, 0.06707951, 0.06640263,\n",
       "        0.06580149, 0.06517737, 0.06466468, 0.06413434, 0.06352605,\n",
       "        0.06318109, 0.06276137, 0.06233616, 0.06193048, 0.06159088,\n",
       "        0.06121419, 0.06089244, 0.06054393, 0.06023925, 0.05994784,\n",
       "        0.05966393, 0.05936537, 0.0590951 , 0.05883679, 0.05857587,\n",
       "        0.05831328, 0.05808365, 0.05784006, 0.05763428, 0.05740337,\n",
       "        0.05718765, 0.05699334, 0.05678856, 0.05656623, 0.05636788,\n",
       "        0.05624186, 0.05604173, 0.05584971, 0.05569774, 0.05551188,\n",
       "        0.05535437, 0.05519924, 0.05504603, 0.05488561, 0.05473466,\n",
       "        0.05457218, 0.05443582, 0.05428346, 0.05416313, 0.05399004,\n",
       "        0.05387529, 0.05372968, 0.05365736, 0.0534336 , 0.05339277,\n",
       "        0.05321863, 0.05314843, 0.05302215, 0.0528673 , 0.05279543,\n",
       "        0.05268889, 0.05255363, 0.05245884, 0.05234344, 0.05224776,\n",
       "        0.05213534, 0.05203316, 0.05193722, 0.05180595, 0.05174877,\n",
       "        0.05163647, 0.0515373 , 0.05141869, 0.05132621, 0.05126996,\n",
       "        0.05118203, 0.05108871, 0.05098124, 0.0508812 , 0.05079779,\n",
       "        0.05075354, 0.05066068, 0.05049928, 0.05044326, 0.05041577]))"
      ]
     },
     "execution_count": 237,
     "metadata": {},
     "output_type": "execute_result"
    }
   ],
   "source": [
    "# Train logistic regression\n",
    "# You should get the optimal weights and a list of objective values by using gradient_descent function.\n",
    "w_sgd, loss_sgd = sgd(x_train, y_train, 0, 0.01, 100)\n",
    "w_sgd,loss_sgd\n"
   ]
  },
  {
   "cell_type": "code",
   "execution_count": 238,
   "metadata": {},
   "outputs": [
    {
     "name": "stdout",
     "output_type": "stream",
     "text": [
      "[[-0.17141269]\n",
      " [-0.53403432]\n",
      " [-0.19337859]\n",
      " [-0.55092482]\n",
      " [-0.15232592]\n",
      " [ 0.86991189]\n",
      " [-1.29865144]\n",
      " [-1.41617215]\n",
      " [ 0.12243866]\n",
      " [ 0.0828441 ]\n",
      " [-1.60428068]\n",
      " [ 0.25343407]\n",
      " [-1.08969406]\n",
      " [-1.47129613]\n",
      " [-0.40320999]\n",
      " [ 1.41057797]\n",
      " [ 0.08224681]\n",
      " [-0.23636029]\n",
      " [ 0.41685136]\n",
      " [ 0.68988995]\n",
      " [-1.13486853]\n",
      " [-1.4138404 ]\n",
      " [-1.023477  ]\n",
      " [-1.40653487]\n",
      " [-0.7843621 ]\n",
      " [ 0.30440904]\n",
      " [-0.87696611]\n",
      " [-1.43201861]\n",
      " [-0.97349386]\n",
      " [-0.59856378]\n",
      " [ 0.        ]] [0.22830849 0.12778773 0.1081743  0.09818101 0.0918867  0.08729761\n",
      " 0.08372536 0.08096409 0.0787235  0.07682507 0.07514483 0.07377072\n",
      " 0.07248046 0.07134668 0.07029862 0.0693341  0.06858626 0.06771405\n",
      " 0.06702286 0.06631757 0.06569951 0.06521682 0.06462302 0.06413367\n",
      " 0.06363594 0.06317169 0.06273993 0.06232472 0.06181858 0.06154019\n",
      " 0.06117923 0.06084164 0.06049162 0.06020703 0.0598974  0.05959459\n",
      " 0.05933824 0.05903441 0.05877142 0.05853213 0.05827297 0.05804449\n",
      " 0.05782872 0.05760886 0.05737629 0.05717696 0.05697657 0.05674555\n",
      " 0.056573   0.05636133 0.05618625 0.0559847  0.05583525 0.05565823\n",
      " 0.05551753 0.05534782 0.05510563 0.05498744 0.05487923 0.05467686\n",
      " 0.05456733 0.05440191 0.05428405 0.05414761 0.05401821 0.05386997\n",
      " 0.05374785 0.05360573 0.05349321 0.05335506 0.05322911 0.05310247\n",
      " 0.05300065 0.0528765  0.05277936 0.0526686  0.05249954 0.05243194\n",
      " 0.05234376 0.0522292  0.05214285 0.05201995 0.05191091 0.0518365\n",
      " 0.05172054 0.05162214 0.05146651 0.05143862 0.05133737 0.05125547\n",
      " 0.05115083 0.05103707 0.0509761  0.05090766 0.05081929 0.05070672\n",
      " 0.05063195 0.05053687 0.05047999 0.05036209]\n"
     ]
    }
   ],
   "source": [
    "# Train regularized logistic regression\n",
    "# You should get the optimal weights and a list of objective values by using gradient_descent function.\n",
    "w_sgd_reg , loss_sgd_reg = sgd(x_train, y_train, 1E-10, 0.01, 100)\n",
    "print(w_sgd_reg,loss_sgd_reg)"
   ]
  },
  {
   "cell_type": "code",
   "execution_count": 239,
   "metadata": {},
   "outputs": [
    {
     "data": {
      "text/plain": [
       "0.9912087912087912"
      ]
     },
     "execution_count": 239,
     "metadata": {},
     "output_type": "execute_result"
    }
   ],
   "source": [
    "# Accuracy for train set logistic regression stochastic gradient descent\n",
    "y_pred_2 = predict1(w_sgd,x_train)\n",
    "accuracy_score(y_train,y_pred_2)"
   ]
  },
  {
   "cell_type": "code",
   "execution_count": 240,
   "metadata": {},
   "outputs": [
    {
     "data": {
      "text/plain": [
       "0.9824561403508771"
      ]
     },
     "execution_count": 240,
     "metadata": {},
     "output_type": "execute_result"
    }
   ],
   "source": [
    "# Accuracy for test set regularised logistic regression stochastic gradient descent\n",
    "y_pred_reg_2 = predict1(w_sgd_reg, x_test)\n",
    "accuracy_score(y_test,y_pred_reg_2)"
   ]
  },
  {
   "cell_type": "markdown",
   "metadata": {},
   "source": [
    "## 3.3 Mini-Batch Gradient Descent (MBGD)"
   ]
  },
  {
   "cell_type": "markdown",
   "metadata": {},
   "source": [
    "Define $Q_I (w) = \\frac{1}{b} \\sum_{i \\in I} \\log \\Big( 1 + \\exp \\big( - y_i x_i^T w \\big) \\Big) + \\frac{\\lambda}{2} \\| w \\|_2^2 $, where $I$ is a set containing $b$ indices randomly drawn from $\\{ 1, \\cdots , n \\}$ without replacement.\n",
    "\n",
    "The stochastic gradient at $w$ is $g_I = \\frac{\\partial Q_I }{ \\partial w} = \\frac{1}{b} \\sum_{i \\in I} \\frac{- y_i x_i }{1 + \\exp ( y_i x_i^T w)} + \\lambda w$.\n",
    "\n",
    "You may need to implement a new function to calculate the new objective function and gradients."
   ]
  },
  {
   "cell_type": "code",
   "execution_count": 241,
   "metadata": {},
   "outputs": [],
   "source": [
    "# Calculate the objective Q_I and the gradient of Q_I\n",
    "# Inputs:\n",
    "#     w: weights: d-by-b matrix\n",
    "#     xi: data: b-by-d matrix\n",
    "#     yi: label: scalar\n",
    "#     lam: scalar, the regularization parameter\n",
    "# Return:\n",
    "#     obj: scalar, the objective Q_i\n",
    "#     g: d-by-1 matrix, gradient of Q_i\n",
    "def mb_objective_gradient(w, xi, yi, lam):\n",
    "    n , d = xi.shape\n",
    "    loss = np.mean(np.log(1+ np.exp(-(np.dot(np.multiply(yi, xi),w))))) + (lam/2)* np.sum(np.square(w))\n",
    "    gradient = np.mean(np.divide(-(np.multiply(yi, xi)),(1+ np.exp(np.dot(np.multiply(yi, xi),w)))), axis=0).reshape(d,1) + (lam * w)\n",
    "    return loss, gradient\n"
   ]
  },
  {
   "cell_type": "markdown",
   "metadata": {},
   "source": [
    "Hints:\n",
    "1. In every epoch, randomly permute the $n$ samples (just like SGD).\n",
    "2. Each epoch has $\\frac{n}{b}$ iterations. In every iteration, use $b$ samples, and compute the gradient and objective using the ``mb_objective_gradient`` function. In the next iteration, use the next $b$ samples, and so on."
   ]
  },
  {
   "cell_type": "code",
   "execution_count": 242,
   "metadata": {},
   "outputs": [],
   "source": [
    "# MBGD for solving logistic regression\n",
    "# You will need to do iterative process (loops) to obtain optimal weights in this function\n",
    "\n",
    "# Inputs:\n",
    "#     x: data: n-by-d matrix\n",
    "#     y: label: n-by-1 matrix\n",
    "#     lam: scalar, the regularization parameter\n",
    "#     learning_rate: scalar\n",
    "#     w: weights: d-by-1 matrix, initialization of w\n",
    "#     max_epoch: integer, the maximal epochs\n",
    "# Return:\n",
    "#     w: weights: d-by-1 matrix, the solution\n",
    "#     objvals: a record of each epoch's objective value\n",
    "#     Record one objective value per epoch (not per iteration)\n",
    "\n",
    "\n",
    "def mbgd(x, y, lam, learning_rate, b_size, max_epoch=100):\n",
    "    n, d = x.shape\n",
    "    objvals = np.zeros(max_epoch)\n",
    "    w = np.zeros((d, 1))\n",
    "    y = y.values.reshape((n, 1)) if isinstance(y, pd.Series) else y.reshape((n, 1))\n",
    "    \n",
    "    for k in range(max_epoch):\n",
    "        rand_indices = np.random.permutation(n)\n",
    "        x_random = x[rand_indices]\n",
    "        y_random = y[rand_indices]\n",
    "\n",
    "        objval = 0\n",
    "        for i in range(0, n, b_size):\n",
    "            x_batch = x_random[i:i + b_size]\n",
    "            y_batch = y_random[i:i + b_size]\n",
    "\n",
    "            obj, g = mb_objective_gradient(w, x_batch, y_batch, lam)\n",
    "            objval += obj\n",
    "            w -= learning_rate * g\n",
    "\n",
    "        objval /= b_size\n",
    "        objvals[k] = objval\n",
    "\n",
    "    return w, objvals\n",
    "\n"
   ]
  },
  {
   "cell_type": "markdown",
   "metadata": {},
   "source": [
    "Use mbgd function to obtain your optimal weights and a list of objective values over each epoch."
   ]
  },
  {
   "cell_type": "code",
   "execution_count": 243,
   "metadata": {},
   "outputs": [
    {
     "data": {
      "text/plain": [
       "(array([[-0.42875405],\n",
       "        [-0.35218502],\n",
       "        [-0.4265856 ],\n",
       "        [-0.44933452],\n",
       "        [-0.17196465],\n",
       "        [-0.13063791],\n",
       "        [-0.37473021],\n",
       "        [-0.490778  ],\n",
       "        [-0.13360278],\n",
       "        [ 0.17658065],\n",
       "        [-0.40781701],\n",
       "        [-0.0268915 ],\n",
       "        [-0.35232762],\n",
       "        [-0.38897166],\n",
       "        [-0.05693937],\n",
       "        [ 0.16352534],\n",
       "        [ 0.12402974],\n",
       "        [-0.00884226],\n",
       "        [ 0.03880725],\n",
       "        [ 0.22629739],\n",
       "        [-0.52974342],\n",
       "        [-0.4700734 ],\n",
       "        [-0.51254306],\n",
       "        [-0.52451959],\n",
       "        [-0.40047094],\n",
       "        [-0.2062197 ],\n",
       "        [-0.31303558],\n",
       "        [-0.48126513],\n",
       "        [-0.32833961],\n",
       "        [-0.09813619],\n",
       "        [ 0.        ]]),\n",
       " array([0.27453358, 0.21170755, 0.17655811, 0.15627016, 0.14210024,\n",
       "        0.13180462, 0.12540791, 0.12178279, 0.11347718, 0.10853112,\n",
       "        0.10284102, 0.09964676, 0.09523075, 0.090439  , 0.08813739,\n",
       "        0.08945078, 0.08451161, 0.08514145, 0.08151294, 0.0819079 ,\n",
       "        0.07697927, 0.07786445, 0.07804034, 0.07288755, 0.07308418,\n",
       "        0.07303072, 0.07472988, 0.07418791, 0.07114494, 0.06766471,\n",
       "        0.0666627 , 0.06555787, 0.06436157, 0.06671258, 0.06324124,\n",
       "        0.06868262, 0.06627072, 0.0658274 , 0.06182459, 0.06537701,\n",
       "        0.06384128, 0.06295133, 0.05860044, 0.0650606 , 0.06019429,\n",
       "        0.05670365, 0.06081535, 0.05757472, 0.05574673, 0.05751125,\n",
       "        0.05792118, 0.05475499, 0.05545501, 0.05505103, 0.05751207,\n",
       "        0.05563457, 0.05357605, 0.05303215, 0.05653569, 0.05827551,\n",
       "        0.05203354, 0.05348882, 0.05582496, 0.05069483, 0.05185689,\n",
       "        0.05155377, 0.05002283, 0.051782  , 0.05046868, 0.05098947,\n",
       "        0.05116704, 0.05017664, 0.0520601 , 0.05137578, 0.04974585,\n",
       "        0.05128299, 0.04809095, 0.04855861, 0.04726635, 0.04752207,\n",
       "        0.04714705, 0.04729169, 0.0503391 , 0.04728078, 0.04822119,\n",
       "        0.04694001, 0.04593433, 0.0504922 , 0.04591115, 0.0468507 ,\n",
       "        0.04860802, 0.04542385, 0.0491674 , 0.05096707, 0.04723818,\n",
       "        0.05875105, 0.05686011, 0.04516906, 0.04707118, 0.04651829]))"
      ]
     },
     "execution_count": 243,
     "metadata": {},
     "output_type": "execute_result"
    }
   ],
   "source": [
    "# Train logistic regression\n",
    "# You should get the optimal weights and a list of objective values by using gradient_descent function.\n",
    "\n",
    "w_mbgd, objvals_mbsgd = mbgd(x_train, y_train, 0, 0.01,32)\n",
    "w_mbgd, objvals_mbsgd"
   ]
  },
  {
   "cell_type": "code",
   "execution_count": 244,
   "metadata": {},
   "outputs": [
    {
     "data": {
      "text/plain": [
       "(array([[-0.40477447],\n",
       "        [-0.33230728],\n",
       "        [-0.40247853],\n",
       "        [-0.4231315 ],\n",
       "        [-0.15920231],\n",
       "        [-0.12056402],\n",
       "        [-0.35122402],\n",
       "        [-0.45912393],\n",
       "        [-0.12967308],\n",
       "        [ 0.16889859],\n",
       "        [-0.37724044],\n",
       "        [-0.0208528 ],\n",
       "        [-0.32664721],\n",
       "        [-0.36105189],\n",
       "        [-0.06165025],\n",
       "        [ 0.15018398],\n",
       "        [ 0.11505981],\n",
       "        [-0.01056225],\n",
       "        [ 0.03522249],\n",
       "        [ 0.21071507],\n",
       "        [-0.49798123],\n",
       "        [-0.44308221],\n",
       "        [-0.48184042],\n",
       "        [-0.49211257],\n",
       "        [-0.37444036],\n",
       "        [-0.19355077],\n",
       "        [-0.29631481],\n",
       "        [-0.45241519],\n",
       "        [-0.31189337],\n",
       "        [-0.09201578],\n",
       "        [ 0.        ]]),\n",
       " array([0.27801979, 0.2135117 , 0.18027471, 0.15656985, 0.14553041,\n",
       "        0.13353418, 0.12439136, 0.12230135, 0.11010207, 0.10690638,\n",
       "        0.10330795, 0.09852832, 0.09866935, 0.10002392, 0.09083259,\n",
       "        0.08898501, 0.09192263, 0.0877941 , 0.08775746, 0.08313052,\n",
       "        0.08181073, 0.07861816, 0.08112379, 0.0830046 , 0.0777451 ,\n",
       "        0.07371047, 0.07401826, 0.077031  , 0.07254712, 0.07248625,\n",
       "        0.07177411, 0.0707048 , 0.07219986, 0.06966904, 0.0694587 ,\n",
       "        0.07024992, 0.06692559, 0.07061637, 0.07309232, 0.06721747,\n",
       "        0.06416018, 0.06623974, 0.06942263, 0.06742726, 0.06681971,\n",
       "        0.0673078 , 0.06498737, 0.06488696, 0.0630409 , 0.06168543,\n",
       "        0.06385182, 0.0617661 , 0.06286918, 0.06172444, 0.06137967,\n",
       "        0.06126802, 0.06250068, 0.06258399, 0.05962553, 0.06066128,\n",
       "        0.06034401, 0.06025791, 0.0605363 , 0.06686741, 0.06116799,\n",
       "        0.05883805, 0.05759369, 0.06885083, 0.05790587, 0.05879199,\n",
       "        0.05833402, 0.05765915, 0.05669246, 0.05966027, 0.05733964,\n",
       "        0.05842446, 0.05885373, 0.05801195, 0.0580285 , 0.05946655,\n",
       "        0.05772724, 0.05687435, 0.05565784, 0.05851012, 0.05559731,\n",
       "        0.05536343, 0.05467828, 0.05678093, 0.05554032, 0.05534766,\n",
       "        0.05556124, 0.05476412, 0.05723338, 0.05426839, 0.05432588,\n",
       "        0.055624  , 0.06032672, 0.0611706 , 0.05353119, 0.05741019]))"
      ]
     },
     "execution_count": 244,
     "metadata": {},
     "output_type": "execute_result"
    }
   ],
   "source": [
    "# Train regularized logistic regression\n",
    "# You should get the optimal weights and a list of objective values by using gradient_descent function.\n",
    "w_mbgd_reg, objvals_mbsgd_reg = mbgd(x_train, y_train, 0.01, 0.01,32)\n",
    "w_mbgd_reg, objvals_mbsgd_reg"
   ]
  },
  {
   "cell_type": "code",
   "execution_count": 245,
   "metadata": {},
   "outputs": [
    {
     "data": {
      "text/plain": [
       "0.9758241758241758"
      ]
     },
     "execution_count": 245,
     "metadata": {},
     "output_type": "execute_result"
    }
   ],
   "source": [
    "# Accuracy for train set logistic regression stochastic gradient descent\n",
    "y_pred_2 = predict1(w_mbgd,x_train)\n",
    "accuracy_score(y_train,y_pred_2)\n"
   ]
  },
  {
   "cell_type": "code",
   "execution_count": 246,
   "metadata": {},
   "outputs": [
    {
     "data": {
      "text/plain": [
       "0.9758241758241758"
      ]
     },
     "execution_count": 246,
     "metadata": {},
     "output_type": "execute_result"
    }
   ],
   "source": [
    "# Accuracy for train set logistic regression stochastic gradient descent\n",
    "y_pred_2 = predict1(w_mbgd_reg,x_train)\n",
    "accuracy_score(y_train,y_pred_2)"
   ]
  },
  {
   "cell_type": "markdown",
   "metadata": {},
   "source": [
    "# 4. Compare GD, SGD, MBGD\n",
    "\n",
    "### Plot objective function values against epochs."
   ]
  },
  {
   "cell_type": "code",
   "execution_count": 247,
   "metadata": {},
   "outputs": [
    {
     "data": {
      "image/png": "[encoded data removed]",
      "text/plain": [
       "<Figure size 600x400 with 1 Axes>"
      ]
     },
     "metadata": {},
     "output_type": "display_data"
    }
   ],
   "source": [
    "import matplotlib.pyplot as plt\n",
    "%matplotlib inline\n",
    "\n",
    "fig = plt.figure(figsize=(6, 4))\n",
    "\n",
    "epochs_gd = range(len(obj_logreg))\n",
    "epochs_sgd = range(len(loss_sgd))\n",
    "epochs_mbsgd = range(len(objvals_mbsgd))\n",
    "\n",
    "\n",
    "line0, = plt.plot(epochs_gd, obj_logreg, '--b')\n",
    "line1, = plt.plot(epochs_sgd, loss_sgd, '-r')\n",
    "line2, = plt.plot(epochs_mbsgd, objvals_mbsgd,'-g')\n",
    "plt.xlabel('Epochs', fontsize=20)\n",
    "plt.ylabel('Objective Value', fontsize=20)\n",
    "plt.xticks(fontsize=16)\n",
    "plt.yticks(fontsize=16)\n",
    "plt.legend([line0, line1, line2], ['GD', 'SGD','MBGD '], fontsize=20)\n",
    "#plt.tight_layout()\n",
    "plt.show()"
   ]
  },
  {
   "cell_type": "code",
   "execution_count": 248,
   "metadata": {},
   "outputs": [
    {
     "data": {
      "image/png": "[encoded data removed]",
      "text/plain": [
       "<Figure size 640x480 with 1 Axes>"
      ]
     },
     "metadata": {},
     "output_type": "display_data"
    }
   ],
   "source": [
    "epochs_gd = range(len(obj_reglog))\n",
    "epochs_sgd = range(len(loss_sgd_reg))\n",
    "epochs_mbsgd = range(len(objvals_mbsgd_reg))\n",
    "# epochs_mbsgd64 = range(len(objvals_mbsgd64))\n",
    "\n",
    "line0, = plt.plot(epochs_gd, obj_reglog, '--b', linewidth=2)\n",
    "line1, = plt.plot(epochs_sgd, loss_sgd_reg, '-r', linewidth=2)\n",
    "line2, = plt.plot(epochs_mbsgd, objvals_mbsgd_reg,'-g', linewidth=3.5)\n",
    "# line3, = plt.plot(epochs_mbsgd64, objvals_mbsgd64, '--y', linewidth=2)\n",
    "plt.xlabel('Epochs', fontsize=20)\n",
    "plt.ylabel('Objective Value', fontsize=20)\n",
    "plt.xticks(fontsize=16)\n",
    "plt.yticks(fontsize=16)\n",
    "plt.legend([line0, line1, line2], ['GD', 'SGD','MBGD '], fontsize=20)\n",
    "plt.tight_layout()\n",
    "plt.show()\n"
   ]
  },
  {
   "cell_type": "markdown",
   "metadata": {},
   "source": [
    "# 5. Prediction\n",
    "### Compare the training and testing accuracy for logistic regression and regularized logistic regression."
   ]
  },
  {
   "cell_type": "code",
   "execution_count": 249,
   "metadata": {},
   "outputs": [],
   "source": [
    "# Predict class label\n",
    "# Inputs:\n",
    "#     w: weights: d-by-1 matrix\n",
    "#     X: data: m-by-d matrix\n",
    "# Return:\n",
    "#     f: m-by-1 matrix, the predictions\n",
    "def predict1(w, x):\n",
    "    xw = x.dot(w)\n",
    "    f = np.where(xw > 0,1,-1)\n",
    "    return np.array(f)\n"
   ]
  },
  {
   "cell_type": "code",
   "execution_count": 250,
   "metadata": {},
   "outputs": [
    {
     "name": "stdout",
     "output_type": "stream",
     "text": [
      "Training error of logistic regression: 0.017582417582417582\n",
      "Training error of regularized logistic regression: 0.017582417582417582\n",
      "Training error of SGD: 0.008791208791208791\n",
      "Training error of regularized SGD: 0.008791208791208791\n",
      "Training error of MBGD: 0.024175824175824177\n",
      "Training error of regularized MBGD: 0.024175824175824177\n"
     ]
    }
   ],
   "source": [
    "# evaluate training error of logistic regression and regularized version\n",
    "y_train_pred = predict1(w_logreg,x_train)\n",
    "train_error_logreg = np.mean(y_train_pred != y_train)   \n",
    "print(\"Training error of logistic regression:\", train_error_logreg)\n",
    "\n",
    "\n",
    "y_train_pred = predict1(w_reglog,x_train)\n",
    "train_error_reglog = np.mean(y_train_pred != y_train)   \n",
    "print(\"Training error of regularized logistic regression:\", train_error_reglog)\n",
    "\n",
    "#Training error of SGD and Regularized SGD\n",
    "y_train_pred = predict1(w_sgd,x_train)\n",
    "train_error_logreg = np.mean(y_train_pred != y_train)   \n",
    "print(\"Training error of SGD:\", train_error_logreg)\n",
    "\n",
    "\n",
    "y_train_pred = predict1(w_sgd_reg,x_train)\n",
    "train_error_reglog = np.mean(y_train_pred != y_train)   \n",
    "print(\"Training error of regularized SGD:\", train_error_reglog)\n",
    "\n",
    "#Training error of MBGD and Regularized MBGD\n",
    "y_train_pred = predict1(w_mbgd,x_train)\n",
    "train_error_logreg = np.mean(y_train_pred != y_train)   \n",
    "print(\"Training error of MBGD:\", train_error_logreg)\n",
    "\n",
    "\n",
    "y_train_pred = predict1(w_mbgd_reg,x_train)\n",
    "train_error_reglog = np.mean(y_train_pred != y_train)   \n",
    "print(\"Training error of regularized MBGD:\", train_error_reglog)"
   ]
  },
  {
   "cell_type": "code",
   "execution_count": 251,
   "metadata": {},
   "outputs": [
    {
     "name": "stdout",
     "output_type": "stream",
     "text": [
      "Testing error of logistic regression: 0.008771929824561403\n",
      "Testing error of regularized logistic regression: 0.008771929824561403\n",
      "Testing error of SGD logistic regression: 0.017543859649122806\n",
      "Testing error of regularized SGD logistic regression: 0.017543859649122806\n",
      "Testing error of MBGD logistic regression: 0.03508771929824561\n",
      "Testing error of regularized MBGD logistic regression: 0.03508771929824561\n"
     ]
    }
   ],
   "source": [
    "# evaluate testing error of logistic regression and regularized version\n",
    "# Calculate testing error of logistic regression\n",
    "y_test_pred = predict1(w_logreg,x_test)\n",
    "test_error_logreg = np.mean(y_test_pred.flatten() != y_test.values.flatten())\n",
    "print(\"Testing error of logistic regression:\", test_error_logreg)\n",
    "\n",
    "# Calculate testing error of regularized logistic regression\n",
    "y_test_pred = predict1(w_reglog,x_test)\n",
    "test_error_reglog = np.mean(y_test_pred.flatten() != y_test.values.flatten())\n",
    "print(\"Testing error of regularized logistic regression:\", test_error_reglog)\n",
    "\n",
    "# #Calculating testing error of SGD\n",
    "y_test_pred = predict1(w_sgd,x_test)\n",
    "test_error_logreg = np.mean(y_test_pred.flatten() != y_test.values.flatten())\n",
    "print(\"Testing error of SGD logistic regression:\", test_error_logreg)\n",
    "\n",
    "# Calculate testing error of regularized logistic regression\n",
    "y_test_pred = predict1(w_sgd_reg,x_test)\n",
    "test_error_reglog = np.mean(y_test_pred.flatten() != y_test.values.flatten())\n",
    "print(\"Testing error of regularized SGD logistic regression:\", test_error_reglog)\n",
    "\n",
    "# #Calculating testing error of MBGD\n",
    "y_test_pred = predict1(w_mbgd,x_test)\n",
    "test_error_logreg = np.mean(y_test_pred.flatten() != y_test.values.flatten())\n",
    "print(\"Testing error of MBGD logistic regression:\", test_error_logreg)\n",
    "\n",
    "# Calculate testing error of regularized logistic regression\n",
    "y_test_pred = predict(x_test,w_mbgd_reg)\n",
    "test_error_reglog = np.mean(y_test_pred.flatten() != y_test.values.flatten())\n",
    "print(\"Testing error of regularized MBGD logistic regression:\", test_error_reglog)\n",
    "\n"
   ]
  },
  {
   "cell_type": "code",
   "execution_count": 252,
   "metadata": {},
   "outputs": [],
   "source": [
    "# def cross_entropy_loss(y_true, y_pred):\n",
    "#     loss = -np.mean(y_true*np.log(y_pred) + (1-y_true)*np.log(1-y_pred))\n",
    "#     return loss\n",
    "\n",
    "# # Calculate testing error of logistic regression\n",
    "# y_test_pred = predict(x_test, w_logreg)\n",
    "# y_test_pred = np.clip(y_test_pred, 1e-15, 1 - 1e-15) # Add small value to ensure not exactly 0 or 1\n",
    "# test_error_logreg = cross_entropy_loss(np.array(y_test).reshape(-1, 1), y_test_pred.reshape(-1, 1))\n",
    "\n",
    "# print(\"Testing error of logistic regression:\", test_error_logreg)\n",
    "\n"
   ]
  },
  {
   "cell_type": "markdown",
   "metadata": {},
   "source": [
    "# 6. Parameters tuning"
   ]
  },
  {
   "cell_type": "markdown",
   "metadata": {},
   "source": [
    "### In this section, you may try different combinations of parameters (regularization value, learning rate, etc) to see their effects on the model. (Open ended question)"
   ]
  },
  {
   "cell_type": "code",
   "execution_count": 253,
   "metadata": {},
   "outputs": [
    {
     "name": "stdout",
     "output_type": "stream",
     "text": [
      "Lambda = 0, error: 0.0967032967032967, Accuracy: 0.9758241758241758\n",
      "Learning rate = 0.001, error_reg: 0.210989010989011, Accuracy_reg: 0.9472527472527472\n",
      "\n",
      "Lambda = 0, error: 0.0967032967032967, Accuracy: 0.9758241758241758\n",
      "Learning rate = 0.01, error_reg: 0.11428571428571428, Accuracy_reg: 0.9714285714285714\n",
      "\n",
      "Lambda = 0, error: 0.0967032967032967, Accuracy: 0.9758241758241758\n",
      "Learning rate = 0.1, error_reg: 0.06153846153846154, Accuracy_reg: 0.9846153846153847\n",
      "\n",
      "Lambda = 1, error: 0.0967032967032967, Accuracy: 0.9758241758241758\n",
      "Learning rate = 0.001, error_reg: 0.210989010989011, Accuracy_reg: 0.9472527472527472\n",
      "\n",
      "Lambda = 1, error: 0.0967032967032967, Accuracy: 0.9758241758241758\n",
      "Learning rate = 0.01, error_reg: 0.1934065934065934, Accuracy_reg: 0.9516483516483516\n",
      "\n",
      "Lambda = 1, error: 0.0967032967032967, Accuracy: 0.9758241758241758\n",
      "Learning rate = 0.1, error_reg: 0.2021978021978022, Accuracy_reg: 0.9494505494505494\n",
      "\n",
      "Lambda = 10, error: 0.0967032967032967, Accuracy: 0.9758241758241758\n",
      "Learning rate = 0.001, error_reg: 0.24615384615384617, Accuracy_reg: 0.9384615384615385\n",
      "\n",
      "Lambda = 10, error: 0.0967032967032967, Accuracy: 0.9758241758241758\n",
      "Learning rate = 0.01, error_reg: 0.24615384615384617, Accuracy_reg: 0.9384615384615385\n",
      "\n",
      "Lambda = 10, error: 0.0967032967032967, Accuracy: 0.9758241758241758\n",
      "Learning rate = 0.1, error_reg: 0.16703296703296702, Accuracy_reg: 0.9582417582417583\n",
      "\n",
      "Lambda = 100, error: 0.0967032967032967, Accuracy: 0.9758241758241758\n",
      "Learning rate = 0.001, error_reg: 0.3076923076923077, Accuracy_reg: 0.9230769230769231\n",
      "\n",
      "Lambda = 100, error: 0.0967032967032967, Accuracy: 0.9758241758241758\n",
      "Learning rate = 0.01, error_reg: 0.210989010989011, Accuracy_reg: 0.9472527472527472\n",
      "\n",
      "Lambda = 100, error: 0.0967032967032967, Accuracy: 0.9758241758241758\n",
      "Learning rate = 0.1, error_reg: 2.558241758241758, Accuracy_reg: 0.36043956043956044\n",
      "\n"
     ]
    },
    {
     "name": "stderr",
     "output_type": "stream",
     "text": [
      "C:\\Users\\Dhanesh Akolu\\AppData\\Local\\Temp\\ipykernel_22400\\1677422312.py:12: RuntimeWarning: overflow encountered in exp\n",
      "  loss = np.mean(np.log(1+ np.exp(-(np.dot(np.multiply(yi, xi),w))))) + (lam/2)* np.sum(np.square(w))\n",
      "C:\\Users\\Dhanesh Akolu\\AppData\\Local\\Temp\\ipykernel_22400\\1677422312.py:13: RuntimeWarning: overflow encountered in exp\n",
      "  gradient = np.mean(np.divide(-(np.multiply(yi, xi)),(1+ np.exp(np.dot(np.multiply(yi, xi),w)))), axis=0).reshape(d,1) + (lam * w)\n",
      "C:\\Users\\Dhanesh Akolu\\AppData\\Local\\Temp\\ipykernel_22400\\1677422312.py:12: RuntimeWarning: overflow encountered in scalar multiply\n",
      "  loss = np.mean(np.log(1+ np.exp(-(np.dot(np.multiply(yi, xi),w))))) + (lam/2)* np.sum(np.square(w))\n",
      "C:\\Users\\Dhanesh Akolu\\AppData\\Local\\Temp\\ipykernel_22400\\1677422312.py:12: RuntimeWarning: overflow encountered in square\n",
      "  loss = np.mean(np.log(1+ np.exp(-(np.dot(np.multiply(yi, xi),w))))) + (lam/2)* np.sum(np.square(w))\n",
      "c:\\Users\\Dhanesh Akolu\\AppData\\Local\\Programs\\Python\\Python39\\lib\\site-packages\\numpy\\core\\fromnumeric.py:86: RuntimeWarning: overflow encountered in reduce\n",
      "  return ufunc.reduce(obj, axis, dtype, out, **passkwargs)\n",
      "C:\\Users\\Dhanesh Akolu\\AppData\\Local\\Temp\\ipykernel_22400\\1677422312.py:13: RuntimeWarning: overflow encountered in multiply\n",
      "  gradient = np.mean(np.divide(-(np.multiply(yi, xi)),(1+ np.exp(np.dot(np.multiply(yi, xi),w)))), axis=0).reshape(d,1) + (lam * w)\n"
     ]
    }
   ],
   "source": [
    "from sklearn.metrics import mean_squared_error\n",
    "\n",
    "lam_values = [0, 1, 10, 100]\n",
    "lr_values = [0.001, 0.01, 0.1]\n",
    "batch_size = 60\n",
    "max_epochs = 100\n",
    "\n",
    "for lam in lam_values:\n",
    "    for lr in lr_values:\n",
    "        w_mbgd_reg = np.zeros(x_train.shape[1])\n",
    "        w_mbgd_reg, obj_val_reg = mbgd(x_train, y_train, lam, lr, batch_size, max_epochs)\n",
    "\n",
    "        f_train = predict1(w_mbgd, x_train)\n",
    "        f_train_reg = predict1(w_mbgd_reg, x_train)\n",
    "\n",
    "        error = mean_squared_error(y_train, f_train)\n",
    "        error_reg = mean_squared_error(y_train, f_train_reg)\n",
    "\n",
    "        accuracy = accuracy_score(y_train, f_train)\n",
    "        accuracy_reg = accuracy_score(y_train, f_train_reg)\n",
    "\n",
    "        print(f\"Lambda = {lam}, error: {error}, Accuracy: {accuracy}\")\n",
    "        print(f\"Learning rate = {lr}, error_reg: {error_reg}, Accuracy_reg: {accuracy_reg}\\n\")\n"
   ]
  }
 ],
 "metadata": {
  "kernelspec": {
   "display_name": "Python 3",
   "language": "python",
   "name": "python3"
  },
  "language_info": {
   "codemirror_mode": {
    "name": "ipython",
    "version": 3
   },
   "file_extension": ".py",
   "mimetype": "text/x-python",
   "name": "python",
   "nbconvert_exporter": "python",
   "pygments_lexer": "ipython3",
   "version": "3.9.1"
  },
  "vscode": {
   "interpreter": {
    "hash": "68c3239bc8d8c9bd7c4d32e236c4f0667330d6c0e6487ccef90f8d44104a0ddf"
   }
  }
 },
 "nbformat": 4,
 "nbformat_minor": 2
}
